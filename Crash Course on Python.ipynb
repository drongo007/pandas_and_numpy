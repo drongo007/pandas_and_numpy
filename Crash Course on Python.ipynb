{
 "cells": [
  {
   "cell_type": "code",
   "execution_count": 1,
   "metadata": {},
   "outputs": [],
   "source": [
    "def addup(x,y):\n",
    "    new=x+2\n",
    "    old=y+3\n",
    "    return new, old"
   ]
  },
  {
   "cell_type": "code",
   "execution_count": 2,
   "metadata": {},
   "outputs": [],
   "source": [
    "c=addup(3,5)"
   ]
  },
  {
   "cell_type": "code",
   "execution_count": 3,
   "metadata": {},
   "outputs": [
    {
     "name": "stdout",
     "output_type": "stream",
     "text": [
      "(5, 8)\n"
     ]
    }
   ],
   "source": [
    "print(c)"
   ]
  },
  {
   "cell_type": "code",
   "execution_count": 4,
   "metadata": {},
   "outputs": [
    {
     "name": "stdout",
     "output_type": "stream",
     "text": [
      "june has 30 days.\n"
     ]
    }
   ],
   "source": [
    "def month_days(month, days):\n",
    "    print(f\"{month} has {days} days.\")\n",
    "month_days(\"june\", 30)"
   ]
  },
  {
   "cell_type": "code",
   "execution_count": 5,
   "metadata": {},
   "outputs": [
    {
     "data": {
      "text/plain": [
       "False"
      ]
     },
     "execution_count": 5,
     "metadata": {},
     "output_type": "execute_result"
    }
   ],
   "source": [
    "\"big\" > \"small\""
   ]
  },
  {
   "cell_type": "code",
   "execution_count": 6,
   "metadata": {},
   "outputs": [
    {
     "data": {
      "text/plain": [
       "1"
      ]
     },
     "execution_count": 6,
     "metadata": {},
     "output_type": "execute_result"
    }
   ],
   "source": [
    "11 % 5"
   ]
  },
  {
   "cell_type": "code",
   "execution_count": 7,
   "metadata": {},
   "outputs": [
    {
     "name": "stdout",
     "output_type": "stream",
     "text": [
      "10\n"
     ]
    }
   ],
   "source": [
    "def sum(x, y):\n",
    "\t\treturn(x+y)\n",
    "print(sum(sum(1,2), sum(3,4)))"
   ]
  },
  {
   "cell_type": "code",
   "execution_count": 8,
   "metadata": {},
   "outputs": [
    {
     "data": {
      "text/plain": [
       "True"
      ]
     },
     "execution_count": 8,
     "metadata": {},
     "output_type": "execute_result"
    }
   ],
   "source": [
    "((10 >= 5*2) and (10 <= 5*2))"
   ]
  },
  {
   "cell_type": "code",
   "execution_count": 9,
   "metadata": {},
   "outputs": [],
   "source": [
    "import numpy as np\n",
    "A = np.array([\n",
    "        [2, 0, 0, 0],\n",
    "        [0, 3, 0, 0],\n",
    "        [0, 0, 4, 4],\n",
    "        [0, 0, 5, 5]\n",
    "    ], dtype=np.float_)\n"
   ]
  },
  {
   "cell_type": "code",
   "execution_count": 10,
   "metadata": {},
   "outputs": [],
   "source": [
    "\n",
    "    A[1] = A[1] - A[1,0] * A[0]\n"
   ]
  },
  {
   "cell_type": "code",
   "execution_count": 11,
   "metadata": {},
   "outputs": [
    {
     "data": {
      "text/plain": [
       "array([0., 3., 0., 0.])"
      ]
     },
     "execution_count": 11,
     "metadata": {},
     "output_type": "execute_result"
    }
   ],
   "source": [
    "A[1]"
   ]
  },
  {
   "cell_type": "code",
   "execution_count": 12,
   "metadata": {},
   "outputs": [
    {
     "name": "stdout",
     "output_type": "stream",
     "text": [
      "24\n",
      "120\n"
     ]
    }
   ],
   "source": [
    "def factorial(n):\n",
    "    result = 1\n",
    "    for i in range(n):\n",
    "        result*=(i+1)\n",
    "\n",
    "    return result\n",
    "\n",
    "print(factorial(4)) # should return 24\n",
    "print(factorial(5)) # should return 120"
   ]
  },
  {
   "cell_type": "code",
   "execution_count": 13,
   "metadata": {},
   "outputs": [
    {
     "name": "stdout",
     "output_type": "stream",
     "text": [
      "0\n",
      "0\n",
      "0i:0\n",
      "1\n",
      "0i:1\n",
      "2\n",
      "0i:2\n",
      "3\n",
      "0i:3\n",
      "4\n",
      "0i:4\n",
      "5\n",
      "0i:5\n",
      "6\n",
      "0i:6\n",
      "1\n",
      "1\n",
      "1i:1\n",
      "2\n",
      "1i:2\n",
      "3\n",
      "1i:3\n",
      "4\n",
      "1i:4\n",
      "5\n",
      "1i:5\n",
      "6\n",
      "1i:6\n",
      "2\n",
      "2\n",
      "2i:2\n",
      "3\n",
      "2i:3\n",
      "4\n",
      "2i:4\n",
      "5\n",
      "2i:5\n",
      "6\n",
      "2i:6\n",
      "3\n",
      "3\n",
      "3i:3\n",
      "4\n",
      "3i:4\n",
      "5\n",
      "3i:5\n",
      "6\n",
      "3i:6\n",
      "4\n",
      "4\n",
      "4i:4\n",
      "5\n",
      "4i:5\n",
      "6\n",
      "4i:6\n",
      "5\n",
      "5\n",
      "5i:5\n",
      "6\n",
      "5i:6\n",
      "6\n",
      "6\n",
      "6i:6\n"
     ]
    }
   ],
   "source": [
    "for i in range (7):\n",
    "    print(i)\n",
    "    for j in range (i,7):\n",
    "        print(j)\n",
    "        print(f\"{i}i:{j}\")"
   ]
  },
  {
   "cell_type": "code",
   "execution_count": 14,
   "metadata": {},
   "outputs": [
    {
     "name": "stdout",
     "output_type": "stream",
     "text": [
      "1\n",
      "2\n",
      "3\n",
      "6\n"
     ]
    }
   ],
   "source": [
    "def sum_positive_numbers(n):\n",
    "    # The base case is n being smaller than 1\n",
    "    if n < 1:\n",
    "        return 0\n",
    "\n",
    "    # The recursive case is adding this number to \n",
    "    # the sum of the numbers smaller than this one.\n",
    "    c= n + sum_positive_numbers(n-1)\n",
    "    print(n)\n",
    "    return c\n",
    "    \n",
    "\n",
    "\n",
    "print(sum_positive_numbers(3)) # Should be 6\n",
    "#print(sum_positive_numbers(5)) # Should be 15"
   ]
  },
  {
   "cell_type": "code",
   "execution_count": 15,
   "metadata": {},
   "outputs": [
    {
     "name": "stdout",
     "output_type": "stream",
     "text": [
      "0\n",
      "0\n",
      "1\n",
      "0\n",
      "1\n",
      "2\n",
      "0\n",
      "1\n",
      "2\n",
      "3\n",
      "0\n",
      "1\n",
      "2\n",
      "3\n",
      "4\n",
      "0\n",
      "1\n",
      "2\n",
      "3\n",
      "4\n",
      "5\n",
      "0\n",
      "1\n",
      "2\n",
      "3\n",
      "4\n",
      "5\n",
      "6\n",
      "0\n",
      "1\n",
      "2\n",
      "3\n",
      "4\n",
      "5\n",
      "6\n",
      "7\n",
      "0\n",
      "1\n",
      "2\n",
      "3\n",
      "4\n",
      "5\n",
      "6\n",
      "7\n",
      "8\n"
     ]
    }
   ],
   "source": [
    "for x in range(10):\n",
    "    for y in range(x):\n",
    "        print(y)"
   ]
  },
  {
   "cell_type": "code",
   "execution_count": 16,
   "metadata": {},
   "outputs": [
    {
     "name": "stdout",
     "output_type": "stream",
     "text": [
      "1\n",
      "4\n",
      "7\n"
     ]
    }
   ],
   "source": [
    "for x in range(1, 10, 3):\n",
    "    print(x)"
   ]
  },
  {
   "cell_type": "code",
   "execution_count": 17,
   "metadata": {},
   "outputs": [],
   "source": [
    "import pandas as pd"
   ]
  },
  {
   "cell_type": "code",
   "execution_count": 18,
   "metadata": {},
   "outputs": [
    {
     "name": "stderr",
     "output_type": "stream",
     "text": [
      "/Users/zaurguliyev/Desktop/heart-disease-project/env/lib/python3.8/site-packages/IPython/core/interactiveshell.py:3146: DtypeWarning: Columns (3) have mixed types.Specify dtype option on import or set low_memory=False.\n",
      "  has_raised = await self.run_ast_nodes(code_ast.body, cell_name,\n"
     ]
    },
    {
     "data": {
      "text/html": [
       "<div>\n",
       "<style scoped>\n",
       "    .dataframe tbody tr th:only-of-type {\n",
       "        vertical-align: middle;\n",
       "    }\n",
       "\n",
       "    .dataframe tbody tr th {\n",
       "        vertical-align: top;\n",
       "    }\n",
       "\n",
       "    .dataframe thead th {\n",
       "        text-align: right;\n",
       "    }\n",
       "</style>\n",
       "<table border=\"1\" class=\"dataframe\">\n",
       "  <thead>\n",
       "    <tr style=\"text-align: right;\">\n",
       "      <th></th>\n",
       "      <th>imdb_title_id</th>\n",
       "      <th>title</th>\n",
       "      <th>original_title</th>\n",
       "      <th>year</th>\n",
       "      <th>date_published</th>\n",
       "      <th>genre</th>\n",
       "      <th>duration</th>\n",
       "      <th>country</th>\n",
       "      <th>language</th>\n",
       "      <th>director</th>\n",
       "      <th>...</th>\n",
       "      <th>actors</th>\n",
       "      <th>description</th>\n",
       "      <th>avg_vote</th>\n",
       "      <th>votes</th>\n",
       "      <th>budget</th>\n",
       "      <th>usa_gross_income</th>\n",
       "      <th>worlwide_gross_income</th>\n",
       "      <th>metascore</th>\n",
       "      <th>reviews_from_users</th>\n",
       "      <th>reviews_from_critics</th>\n",
       "    </tr>\n",
       "  </thead>\n",
       "  <tbody>\n",
       "    <tr>\n",
       "      <th>0</th>\n",
       "      <td>tt0000009</td>\n",
       "      <td>Miss Jerry</td>\n",
       "      <td>Miss Jerry</td>\n",
       "      <td>1894</td>\n",
       "      <td>1894-10-09</td>\n",
       "      <td>Romance</td>\n",
       "      <td>45</td>\n",
       "      <td>USA</td>\n",
       "      <td>None</td>\n",
       "      <td>Alexander Black</td>\n",
       "      <td>...</td>\n",
       "      <td>Blanche Bayliss, William Courtenay, Chauncey D...</td>\n",
       "      <td>The adventures of a female reporter in the 1890s.</td>\n",
       "      <td>5.9</td>\n",
       "      <td>154</td>\n",
       "      <td>NaN</td>\n",
       "      <td>NaN</td>\n",
       "      <td>NaN</td>\n",
       "      <td>NaN</td>\n",
       "      <td>1.0</td>\n",
       "      <td>2.0</td>\n",
       "    </tr>\n",
       "    <tr>\n",
       "      <th>1</th>\n",
       "      <td>tt0000574</td>\n",
       "      <td>The Story of the Kelly Gang</td>\n",
       "      <td>The Story of the Kelly Gang</td>\n",
       "      <td>1906</td>\n",
       "      <td>1906-12-26</td>\n",
       "      <td>Biography, Crime, Drama</td>\n",
       "      <td>70</td>\n",
       "      <td>Australia</td>\n",
       "      <td>None</td>\n",
       "      <td>Charles Tait</td>\n",
       "      <td>...</td>\n",
       "      <td>Elizabeth Tait, John Tait, Norman Campbell, Be...</td>\n",
       "      <td>True story of notorious Australian outlaw Ned ...</td>\n",
       "      <td>6.1</td>\n",
       "      <td>589</td>\n",
       "      <td>$ 2250</td>\n",
       "      <td>NaN</td>\n",
       "      <td>NaN</td>\n",
       "      <td>NaN</td>\n",
       "      <td>7.0</td>\n",
       "      <td>7.0</td>\n",
       "    </tr>\n",
       "    <tr>\n",
       "      <th>2</th>\n",
       "      <td>tt0001892</td>\n",
       "      <td>Den sorte drøm</td>\n",
       "      <td>Den sorte drøm</td>\n",
       "      <td>1911</td>\n",
       "      <td>1911-08-19</td>\n",
       "      <td>Drama</td>\n",
       "      <td>53</td>\n",
       "      <td>Germany, Denmark</td>\n",
       "      <td>NaN</td>\n",
       "      <td>Urban Gad</td>\n",
       "      <td>...</td>\n",
       "      <td>Asta Nielsen, Valdemar Psilander, Gunnar Helse...</td>\n",
       "      <td>Two men of high rank are both wooing the beaut...</td>\n",
       "      <td>5.8</td>\n",
       "      <td>188</td>\n",
       "      <td>NaN</td>\n",
       "      <td>NaN</td>\n",
       "      <td>NaN</td>\n",
       "      <td>NaN</td>\n",
       "      <td>5.0</td>\n",
       "      <td>2.0</td>\n",
       "    </tr>\n",
       "    <tr>\n",
       "      <th>3</th>\n",
       "      <td>tt0002101</td>\n",
       "      <td>Cleopatra</td>\n",
       "      <td>Cleopatra</td>\n",
       "      <td>1912</td>\n",
       "      <td>1912-11-13</td>\n",
       "      <td>Drama, History</td>\n",
       "      <td>100</td>\n",
       "      <td>USA</td>\n",
       "      <td>English</td>\n",
       "      <td>Charles L. Gaskill</td>\n",
       "      <td>...</td>\n",
       "      <td>Helen Gardner, Pearl Sindelar, Miss Fielding, ...</td>\n",
       "      <td>The fabled queen of Egypt's affair with Roman ...</td>\n",
       "      <td>5.2</td>\n",
       "      <td>446</td>\n",
       "      <td>$ 45000</td>\n",
       "      <td>NaN</td>\n",
       "      <td>NaN</td>\n",
       "      <td>NaN</td>\n",
       "      <td>25.0</td>\n",
       "      <td>3.0</td>\n",
       "    </tr>\n",
       "    <tr>\n",
       "      <th>4</th>\n",
       "      <td>tt0002130</td>\n",
       "      <td>L'Inferno</td>\n",
       "      <td>L'Inferno</td>\n",
       "      <td>1911</td>\n",
       "      <td>1911-03-06</td>\n",
       "      <td>Adventure, Drama, Fantasy</td>\n",
       "      <td>68</td>\n",
       "      <td>Italy</td>\n",
       "      <td>Italian</td>\n",
       "      <td>Francesco Bertolini, Adolfo Padovan</td>\n",
       "      <td>...</td>\n",
       "      <td>Salvatore Papa, Arturo Pirovano, Giuseppe de L...</td>\n",
       "      <td>Loosely adapted from Dante's Divine Comedy and...</td>\n",
       "      <td>7.0</td>\n",
       "      <td>2237</td>\n",
       "      <td>NaN</td>\n",
       "      <td>NaN</td>\n",
       "      <td>NaN</td>\n",
       "      <td>NaN</td>\n",
       "      <td>31.0</td>\n",
       "      <td>14.0</td>\n",
       "    </tr>\n",
       "  </tbody>\n",
       "</table>\n",
       "<p>5 rows × 22 columns</p>\n",
       "</div>"
      ],
      "text/plain": [
       "  imdb_title_id                        title               original_title  \\\n",
       "0     tt0000009                   Miss Jerry                   Miss Jerry   \n",
       "1     tt0000574  The Story of the Kelly Gang  The Story of the Kelly Gang   \n",
       "2     tt0001892               Den sorte drøm               Den sorte drøm   \n",
       "3     tt0002101                    Cleopatra                    Cleopatra   \n",
       "4     tt0002130                    L'Inferno                    L'Inferno   \n",
       "\n",
       "   year date_published                      genre  duration           country  \\\n",
       "0  1894     1894-10-09                    Romance        45               USA   \n",
       "1  1906     1906-12-26    Biography, Crime, Drama        70         Australia   \n",
       "2  1911     1911-08-19                      Drama        53  Germany, Denmark   \n",
       "3  1912     1912-11-13             Drama, History       100               USA   \n",
       "4  1911     1911-03-06  Adventure, Drama, Fantasy        68             Italy   \n",
       "\n",
       "  language                             director  ...  \\\n",
       "0     None                      Alexander Black  ...   \n",
       "1     None                         Charles Tait  ...   \n",
       "2      NaN                            Urban Gad  ...   \n",
       "3  English                   Charles L. Gaskill  ...   \n",
       "4  Italian  Francesco Bertolini, Adolfo Padovan  ...   \n",
       "\n",
       "                                              actors  \\\n",
       "0  Blanche Bayliss, William Courtenay, Chauncey D...   \n",
       "1  Elizabeth Tait, John Tait, Norman Campbell, Be...   \n",
       "2  Asta Nielsen, Valdemar Psilander, Gunnar Helse...   \n",
       "3  Helen Gardner, Pearl Sindelar, Miss Fielding, ...   \n",
       "4  Salvatore Papa, Arturo Pirovano, Giuseppe de L...   \n",
       "\n",
       "                                         description avg_vote votes   budget  \\\n",
       "0  The adventures of a female reporter in the 1890s.      5.9   154      NaN   \n",
       "1  True story of notorious Australian outlaw Ned ...      6.1   589   $ 2250   \n",
       "2  Two men of high rank are both wooing the beaut...      5.8   188      NaN   \n",
       "3  The fabled queen of Egypt's affair with Roman ...      5.2   446  $ 45000   \n",
       "4  Loosely adapted from Dante's Divine Comedy and...      7.0  2237      NaN   \n",
       "\n",
       "   usa_gross_income worlwide_gross_income metascore reviews_from_users  \\\n",
       "0               NaN                   NaN       NaN                1.0   \n",
       "1               NaN                   NaN       NaN                7.0   \n",
       "2               NaN                   NaN       NaN                5.0   \n",
       "3               NaN                   NaN       NaN               25.0   \n",
       "4               NaN                   NaN       NaN               31.0   \n",
       "\n",
       "   reviews_from_critics  \n",
       "0                   2.0  \n",
       "1                   7.0  \n",
       "2                   2.0  \n",
       "3                   3.0  \n",
       "4                  14.0  \n",
       "\n",
       "[5 rows x 22 columns]"
      ]
     },
     "execution_count": 18,
     "metadata": {},
     "output_type": "execute_result"
    }
   ],
   "source": [
    "movies=pd.read_csv('files/IMDB/IMDb movies.csv')\n",
    "movies.head()"
   ]
  },
  {
   "cell_type": "code",
   "execution_count": 19,
   "metadata": {},
   "outputs": [
    {
     "data": {
      "text/plain": [
       "True     62145\n",
       "False    23710\n",
       "Name: budget, dtype: int64"
      ]
     },
     "execution_count": 19,
     "metadata": {},
     "output_type": "execute_result"
    }
   ],
   "source": [
    "movies['budget'].isna().value_counts()\n"
   ]
  },
  {
   "cell_type": "code",
   "execution_count": 20,
   "metadata": {},
   "outputs": [],
   "source": [
    "# movies.value_counts()"
   ]
  },
  {
   "cell_type": "code",
   "execution_count": 21,
   "metadata": {},
   "outputs": [
    {
     "data": {
      "text/plain": [
       "4"
      ]
     },
     "execution_count": 21,
     "metadata": {},
     "output_type": "execute_result"
    }
   ],
   "source": [
    "text=\"Hello World!\"\n",
    "text.index('o')"
   ]
  },
  {
   "cell_type": "code",
   "execution_count": 22,
   "metadata": {},
   "outputs": [
    {
     "name": "stdout",
     "output_type": "stream",
     "text": [
      "2\n",
      "0\n",
      "2\n",
      "0\n",
      "2\n",
      "0\n",
      "2\n",
      "0\n",
      "2\n",
      "0\n",
      "2\n",
      "0\n"
     ]
    }
   ],
   "source": [
    "x=0\n",
    "letter='l'\n",
    "for i in range(len(text)):\n",
    "    ab=text[x:].index(letter)\n",
    "    print(ab)\n",
    "    x=ab"
   ]
  },
  {
   "cell_type": "code",
   "execution_count": 23,
   "metadata": {},
   "outputs": [
    {
     "name": "stdout",
     "output_type": "stream",
     "text": [
      "  Hello. \n",
      "9\n",
      "6\n",
      "Hello.\n"
     ]
    }
   ],
   "source": [
    "user=\"  Hello. \"\n",
    "print(user)\n",
    "print(len(user))\n",
    "ab=user.strip()\n",
    "user.strip()\n",
    "print(len(ab))\n",
    "print(ab)"
   ]
  },
  {
   "cell_type": "code",
   "execution_count": 24,
   "metadata": {},
   "outputs": [
    {
     "name": "stdout",
     "output_type": "stream",
     "text": [
      "The price is 0.67\n"
     ]
    }
   ],
   "source": [
    "price=2/3\n",
    "text=f'The price is {price:.2f}'\n",
    "print(text)"
   ]
  },
  {
   "cell_type": "code",
   "execution_count": 25,
   "metadata": {},
   "outputs": [
    {
     "name": "stdout",
     "output_type": "stream",
     "text": [
      "Rain\n"
     ]
    }
   ],
   "source": [
    "Weather = \"Rainfall\"\n",
    "print(Weather[:4])"
   ]
  },
  {
   "cell_type": "code",
   "execution_count": 26,
   "metadata": {},
   "outputs": [
    {
     "name": "stdout",
     "output_type": "stream",
     "text": [
      "d\n"
     ]
    }
   ],
   "source": [
    "text=\"Hello World!\"\n",
    "print(text[-2])"
   ]
  },
  {
   "cell_type": "code",
   "execution_count": 27,
   "metadata": {
    "scrolled": true
   },
   "outputs": [],
   "source": [
    "# def replace_ending(sentence, old, new):\n",
    "# \t# Check if the old string is at the end of the sentence \n",
    "#     if sentence.endswith(old):\n",
    "# \t\t# Using i as the slicing index, combine the part\n",
    "# \t\t# of the sentence up to the matched string at the \n",
    "# \t\t# end with the new string\n",
    "#         an = sentence.index(old)\n",
    "#         i = sentence.index(old, an+1)\n",
    "#         new_sentence = sentence[:i]+new\n",
    "#         return new_sentence\n",
    "\n",
    "# \t# Return the original sentence if there is no match \n",
    "#     return sentence\n",
    "\t\n",
    "# print(replace_ending(\"It's raining cats and cats\", \"cats\", \"dogs\")) \n",
    "# # Should display \"It's raining cats and dogs\"\n",
    "# print(replace_ending(\"She sells seashells by the seashore\", \"seashells\", \"donuts\")) \n",
    "# # Should display \"She sells seashells by the seashore\"\n",
    "# print(replace_ending(\"The weather is nice in May\", \"may\", \"april\")) \n",
    "# # Should display \"The weather is nice in May\"\n",
    "# print(replace_ending(\"The weather is nice in May\", \"May\", \"April\")) \n",
    "# # Should display \"The weather is nice in April\"\n",
    "\n"
   ]
  },
  {
   "cell_type": "code",
   "execution_count": 28,
   "metadata": {},
   "outputs": [
    {
     "name": "stdout",
     "output_type": "stream",
     "text": [
      "f\n",
      "uf\n",
      "cuf\n",
      "kcuf\n",
      "False\n"
     ]
    }
   ],
   "source": [
    "def is_palindrome(input_string):\n",
    "\t# We'll create two strings, to compare them\n",
    "    new_string = \"\"\n",
    "    reverse_string = \"\"\n",
    "\t# Traverse through each letter of the input string\n",
    "    for letter in input_string:\n",
    "\t\t# Add any non-blank letters to the \n",
    "\t\t# end of one string, and to the front\n",
    "\t\t# of the other string. \n",
    "        if letter != \" \":\n",
    "            new_string += letter.lower() \n",
    "            reverse_string  = letter.lower()+reverse_string\n",
    "            print(reverse_string)\n",
    "\t# Compare the strings\n",
    "    if new_string == reverse_string:\n",
    "        return True\n",
    "    return False\n",
    "\n",
    "#print(is_palindrome(\"Never Odd or Even\")) # Should be True\n",
    "print(is_palindrome(\"Fuck\")) # Should be False\n",
    "#print(is_palindrome(\"kayak\")) # Should be True"
   ]
  },
  {
   "cell_type": "code",
   "execution_count": 29,
   "metadata": {},
   "outputs": [
    {
     "name": "stdout",
     "output_type": "stream",
     "text": [
      "a\n",
      "apa\n",
      "apapapa\n",
      "apapapalapapapa\n",
      "apapapalapapapaeapapapalapapapa\n"
     ]
    }
   ],
   "source": [
    "strin=\"\"\n",
    "word=\"apple\"\n",
    "for i in word:\n",
    "    strin+=i+strin\n",
    "    print(strin)"
   ]
  },
  {
   "cell_type": "code",
   "execution_count": 30,
   "metadata": {},
   "outputs": [
    {
     "name": "stdout",
     "output_type": "stream",
     "text": [
      "fuckmmmfuckmmmmmm\n"
     ]
    }
   ],
   "source": [
    "def replace_ending(sentence, old, new):\n",
    "\t# Check if the old string is at the end of the sentence \n",
    "    if old[:] in sentence[-len(old):]:\n",
    "        print(sentence[-len(old):])\n",
    "\t\t# Using i as the slicing index, combine the part\n",
    "\t\t# of the sentence up to the matched string at the \n",
    "\t\t# end with the new string\n",
    "        i = len(old)\n",
    "        new_sentence = sentence[:-i] + new\n",
    "        return new_sentence\n",
    "\n",
    "\t# Return the original sentence if there is no match \n",
    "    return sentence\n",
    "\t\n",
    "# print(replace_ending(\"It's raining cats and cats\", \"cats\", \"dogs\")) \n",
    "# # Should display \"It's raining cats and dogs\"\n",
    "# print(replace_ending(\"She sells seashells by the seashore\", \"seashells\", \"donuts\")) \n",
    "# # Should display \"She sells seashells by the seashore\"\n",
    "# print(replace_ending(\"The weather is nice in May\", \"may\", \"april\")) \n",
    "# # Should display \"The weather is nice in May\"\n",
    "# print(replace_ending(\"The weather is nice in May\", \"May\", \"April\")) \n",
    "# # Should display \"The weather is nice in April\"\n",
    "print(replace_ending(\"fuckmmmfuckmmmmmm\", \"fuck\", \"xyz\")) \n",
    "# Should display \"The weather is nice in April\""
   ]
  },
  {
   "cell_type": "code",
   "execution_count": 31,
   "metadata": {},
   "outputs": [
    {
     "name": "stdout",
     "output_type": "stream",
     "text": [
      "['Never', 'Odd', 'or', 'Even']\n",
      "neveroddoreven\n",
      "neveroddoreven\n",
      "True\n",
      "['abc']\n",
      "abc\n",
      "cba\n",
      "False\n",
      "['kayak']\n",
      "kayak\n",
      "kayak\n",
      "True\n"
     ]
    }
   ],
   "source": [
    "\n",
    "\"\"\"\n",
    "1.Question 1\n",
    "The is_palindrome function checks if a string is a palindrome. A palindrome is a string that can \n",
    "be equally read from left to right or right to left, omitting blank spaces, and ignoring capitalization. \n",
    "Examples of palindromes are words like kayak and radar, and phrases like \"Never Odd or Even\". \n",
    "Fill in the blanks in this function to return True if the passed \n",
    "string is a palindrome, False if not.\n",
    "\n",
    "\"\"\"\n",
    "def is_palindrome(input_string):\n",
    "    new_string = input_string.split()\n",
    "    print(new_string)\n",
    "    new_string = \"\".join(new_string).lower()\n",
    "    print(new_string)\n",
    "    reverse_string = new_string[::-1]\n",
    "#     print(new_string)\n",
    "    print(reverse_string)\n",
    "    \n",
    "    if new_string == reverse_string:\n",
    "        return True\n",
    "    else:\n",
    "        return False\n",
    "\n",
    "\n",
    "print(is_palindrome(\"Never Odd or Even\")) # Should be True\n",
    "print(is_palindrome(\"abc\")) # Should be False\n",
    "print(is_palindrome(\"kayak\")) # Should be True"
   ]
  },
  {
   "cell_type": "code",
   "execution_count": 32,
   "metadata": {},
   "outputs": [
    {
     "name": "stdout",
     "output_type": "stream",
     "text": [
      "ep\n"
     ]
    }
   ],
   "source": [
    "word='apple'\n",
    "w2=word[::-3]\n",
    "print(w2)"
   ]
  },
  {
   "cell_type": "code",
   "execution_count": 33,
   "metadata": {},
   "outputs": [],
   "source": [
    "# def combine_lists(list1, list2):\n",
    "#   # Generate a new list containing the elements of list2\n",
    "#   # Followed by the elements of list1 in reverse order\n",
    "#   list1rev=list1.reverse() \n",
    "#   new=list2+list1rev\n",
    "#   return new\n",
    "\t\n",
    "# Jamies_list = [\"Alice\", \"Cindy\", \"Bobby\", \"Jan\", \"Peter\"]\n",
    "# Drews_list = [\"Mike\", \"Carol\", \"Greg\", \"Marcia\"]\n",
    "\n",
    "# Jamies_list+Drews_list.reverse()\n"
   ]
  },
  {
   "cell_type": "code",
   "execution_count": 34,
   "metadata": {},
   "outputs": [
    {
     "name": "stdout",
     "output_type": "stream",
     "text": [
      "Hello.\n"
     ]
    }
   ],
   "source": [
    "Jamies_list = [\"Alice\", \"Cindy\", \"Bobby\", \"Jan\", \"Peter\"]\n",
    "Jamies_list.reverse()\n",
    "print(ab)"
   ]
  },
  {
   "cell_type": "code",
   "execution_count": 35,
   "metadata": {},
   "outputs": [
    {
     "data": {
      "text/plain": [
       "['cherry', 'banana', 'apple']"
      ]
     },
     "execution_count": 35,
     "metadata": {},
     "output_type": "execute_result"
    }
   ],
   "source": [
    "fruits = ['apple', 'banana', 'cherry']\n",
    "\n",
    "fruits.reverse()\n",
    "\n",
    "fruits"
   ]
  },
  {
   "cell_type": "code",
   "execution_count": 36,
   "metadata": {},
   "outputs": [
    {
     "name": "stdout",
     "output_type": "stream",
     "text": [
      "{'Adam': 3, 'Brenda': 3, 'David': 5, 'Jose': 3, 'Charlotte': 2, 'Terry': 1, 'Robert': 6, 'Nancy': 2, 'Samantha': 6, 'Chris': 10}\n"
     ]
    }
   ],
   "source": [
    "def combine_guests(guests1, guests2):\n",
    "  # Combine both dictionaries into one, with each key listed \n",
    "  # only once, and the value from guests1 taking precedence\n",
    "  for key, value in guests2.items():\n",
    "    guests1[key]=guests1.get(key, value)+value\n",
    "  return guests1\n",
    "\n",
    "Rorys_guests = { \"Adam\":2, \"Brenda\":3, \"David\":1, \"Jose\":3, \"Charlotte\":2, \"Terry\":1, \"Robert\":4}\n",
    "Taylors_guests = { \"David\":4, \"Nancy\":1, \"Robert\":2, \"Adam\":1, \"Samantha\":3, \"Chris\":5}\n",
    "\n",
    "print(combine_guests(Rorys_guests, Taylors_guests))\n"
   ]
  },
  {
   "cell_type": "code",
   "execution_count": 37,
   "metadata": {},
   "outputs": [
    {
     "name": "stdout",
     "output_type": "stream",
     "text": [
      "pop\n",
      "t\n",
      "us\n"
     ]
    }
   ],
   "source": [
    "animal=\"Hippopotamus\"\n",
    "print(animal[3:6])\n",
    "print(animal[-5])\n",
    "print(animal[10:])\n"
   ]
  },
  {
   "cell_type": "code",
   "execution_count": 38,
   "metadata": {},
   "outputs": [
    {
     "data": {
      "text/plain": [
       "['red', 'white', 'yellow', 'blue']"
      ]
     },
     "execution_count": 38,
     "metadata": {},
     "output_type": "execute_result"
    }
   ],
   "source": [
    "colors = [\"red\", \"white\", \"blue\"]\n",
    "colors.insert(2, \"yellow\")\n",
    "colors"
   ]
  },
  {
   "cell_type": "code",
   "execution_count": 39,
   "metadata": {},
   "outputs": [
    {
     "data": {
      "text/plain": [
       "dict_keys(['router', 'localhost', 'google'])"
      ]
     },
     "execution_count": 39,
     "metadata": {},
     "output_type": "execute_result"
    }
   ],
   "source": [
    "host_addresses = {\"router\": \"192.168.1.1\", \"localhost\": \"127.0.0.1\", \"google\": \"8.8.8.8\"}\n",
    "host_addresses.keys()"
   ]
  },
  {
   "cell_type": "code",
   "execution_count": 40,
   "metadata": {},
   "outputs": [
    {
     "name": "stdout",
     "output_type": "stream",
     "text": [
      "['program.c', 'stdio.h', 'sample.h', 'a.out', 'math.h', 'hpp.out']\n"
     ]
    }
   ],
   "source": [
    "filenames = [\"program.c\", \"stdio.hpp\", \"sample.hpp\", \"a.out\", \"math.hpp\", \"hpp.out\"]\n",
    "# Generate newfilenames as a list containing the new filenames\n",
    "# using as many lines of code as your chosen method requires.\n",
    "newfilenames=[]\n",
    "for element in filenames:\n",
    "    if element[-3:]==\"hpp\":\n",
    "        edited=element.replace('hpp','h')\n",
    "        newfilenames.append(edited)\n",
    "    else:\n",
    "        newfilenames.append(element)\n",
    "\n",
    "\n",
    "print(newfilenames) "
   ]
  },
  {
   "cell_type": "code",
   "execution_count": 41,
   "metadata": {},
   "outputs": [
    {
     "name": "stdout",
     "output_type": "stream",
     "text": [
      "[('program.c', 'program.c'), ('stdio.hpp', 'stdio.h'), ('sample.hpp', 'sample.h'), ('a.out', 'a.out'), ('math.hpp', 'math.h'), ('hpp.out', 'hpp.out')]\n"
     ]
    }
   ],
   "source": [
    "filenames = [\"program.c\", \"stdio.hpp\", \"sample.hpp\", \"a.out\", \"math.hpp\", \"hpp.out\"]\n",
    "newfilenames = []\n",
    "for oldfilename in filenames:\n",
    "  if \".hpp\" in oldfilename:\n",
    "    newfilenames.append((oldfilename,oldfilename.replace(\".hpp\",\".h\")))\n",
    "  else:\n",
    "    newfilenames.append((oldfilename,oldfilename))\n",
    "\n",
    "print (newfilenames) # Should be [('program.c', 'program.c'), ('stdio.hpp', 'stdio.h'), ('sample.hpp', 'sample.h'), ('a.out', 'a.out'), ('math.hpp', 'math.h'), ('hpp.out', 'hpp.out')]"
   ]
  },
  {
   "cell_type": "code",
   "execution_count": 42,
   "metadata": {},
   "outputs": [
    {
     "data": {
      "text/plain": [
       "{'shirt': ['red', 'blue', 'white'],\n",
       " 'jeans': ['white'],\n",
       " 'scarf': ['yellow'],\n",
       " 'socks': ['black', 'brown']}"
      ]
     },
     "execution_count": 42,
     "metadata": {},
     "output_type": "execute_result"
    }
   ],
   "source": [
    "wardrobe = {'shirt': ['red', 'blue', 'white'], 'jeans': ['blue', 'black']}\n",
    "new_items = {'jeans': ['white'], 'scarf': ['yellow'], 'socks': ['black', 'brown']}\n",
    "wardrobe.update(new_items)\n",
    "wardrobe"
   ]
  },
  {
   "cell_type": "code",
   "execution_count": 43,
   "metadata": {},
   "outputs": [
    {
     "name": "stdout",
     "output_type": "stream",
     "text": [
      "red shirt\n",
      "blue shirt\n",
      "white shirt\n",
      "blue jeans\n",
      "black jeans\n"
     ]
    }
   ],
   "source": [
    "wardrobe = {\"shirt\":[\"red\",\"blue\",\"white\"], \"jeans\":[\"blue\",\"black\"]}\n",
    "for key, value in wardrobe.items():\n",
    "\tfor element in value:\n",
    "\t\tprint(\"{} {}\".format(element, key))"
   ]
  },
  {
   "cell_type": "code",
   "execution_count": 44,
   "metadata": {},
   "outputs": [
    {
     "data": {
      "text/plain": [
       "'red'"
      ]
     },
     "execution_count": 44,
     "metadata": {},
     "output_type": "execute_result"
    }
   ],
   "source": [
    "class Apple:\n",
    "    color=\"\"\n",
    "    size=\"\"\n",
    "\n",
    "jonagold=Apple()\n",
    "jonagold.color=\"red\"\n",
    "\n",
    "\n",
    "jonagold.color"
   ]
  },
  {
   "cell_type": "code",
   "execution_count": 45,
   "metadata": {},
   "outputs": [
    {
     "name": "stdout",
     "output_type": "stream",
     "text": [
      "My names is Jenny Adams\n",
      "Fuck you Jenny Adams\n"
     ]
    }
   ],
   "source": [
    "class Piglet():\n",
    "    name=\"Paggy\"\n",
    "    last=\"Adams\"\n",
    "    def speak(self):\n",
    "        print(f\"My names is {self.name} {self.last}\")\n",
    "    def fuck_all(clas):\n",
    "        print(f\"Fuck you {clas.name} {clas.last}\")\n",
    "        \n",
    "girl=Piglet()\n",
    "girl.name='Jenny'\n",
    "\n",
    "girl.speak()\n",
    "girl.fuck_all()"
   ]
  },
  {
   "cell_type": "code",
   "execution_count": 46,
   "metadata": {},
   "outputs": [],
   "source": [
    "class Apple:\n",
    "    def __init__(self, color, flavor):\n",
    "        self.color = color\n",
    "        self.flavor = flavor\n",
    "    def __str__(self):\n",
    "        return \"This apple is {} and its flavor is {}\".format(self.color, self.flavor)\n"
   ]
  },
  {
   "cell_type": "code",
   "execution_count": 47,
   "metadata": {},
   "outputs": [
    {
     "name": "stdout",
     "output_type": "stream",
     "text": [
      "This apple is red and its flavor is sweet\n"
     ]
    }
   ],
   "source": [
    "mac=Apple(\"red\", \"sweet\")\n",
    "print(mac)"
   ]
  },
  {
   "cell_type": "code",
   "execution_count": 48,
   "metadata": {},
   "outputs": [],
   "source": [
    "class Pinapple:\n",
    "    def __init__(clas,color, flavor):\n",
    "        clas.color = color\n",
    "        clas.flavor = flavor\n",
    "    def __str__(self):\n",
    "        return \"This apple is {} and its flavor is {}\".format(self.color, self.flavor)"
   ]
  },
  {
   "cell_type": "code",
   "execution_count": 49,
   "metadata": {},
   "outputs": [
    {
     "name": "stdout",
     "output_type": "stream",
     "text": [
      "This apple is red and its flavor is sweet\n"
     ]
    }
   ],
   "source": [
    "mc=Pinapple(\"red\", \"sweet\")\n",
    "print(mc)"
   ]
  },
  {
   "cell_type": "code",
   "execution_count": 50,
   "metadata": {},
   "outputs": [
    {
     "name": "stdout",
     "output_type": "stream",
     "text": [
      "10\n"
     ]
    }
   ],
   "source": [
    "class Clothing:\n",
    "  stock={ 'name': [],'material' :[], 'amount':[]}\n",
    "  def __init__(self,name):\n",
    "    material = \"\"\n",
    "    self.name = name\n",
    "  def add_item(self, name, material, amount):\n",
    "    Clothing.stock['name'].append(self.name)\n",
    "    Clothing.stock['material'].append(self.material)\n",
    "    Clothing.stock['amount'].append(amount)\n",
    "  def Stock_by_Material(self, material):\n",
    "    count=0\n",
    "    n=0\n",
    "    for item in Clothing.stock['material']:\n",
    "      if item == material:\n",
    "        count += Clothing.stock['amount'][n]\n",
    "        n+=1\n",
    "    return count\n",
    "\n",
    "class shirt(Clothing):\n",
    "  material=\"Cotton\"\n",
    "class pants(Clothing):\n",
    "  material=\"Cotton\"\n",
    "  \n",
    "polo = shirt(\"Polo\")\n",
    "sweatpants = pants(\"Sweatpants\")\n",
    "polo.add_item(polo.name, polo.material, 4)\n",
    "sweatpants.add_item(sweatpants.name, sweatpants.material, 6)\n",
    "current_stock = polo.Stock_by_Material(\"Cotton\")\n",
    "print(current_stock)"
   ]
  },
  {
   "cell_type": "code",
   "execution_count": null,
   "metadata": {},
   "outputs": [],
   "source": []
  },
  {
   "cell_type": "code",
   "execution_count": 69,
   "metadata": {},
   "outputs": [],
   "source": [
    "def calculate_frequencies(file_contents):\n",
    "    # Here is a list of punctuations and uninteresting words you can use to process your text\n",
    "    punctuations = '''!()-[]{};:'\"\\,<>./?@#$%^&*_~'''\n",
    "    uninteresting_words = [\"the\", \"a\", \"to\", \"if\", \"is\", \"it\", \"of\", \"and\", \"or\", \"an\", \"as\", \"i\", \"me\", \"my\", \\\n",
    "    \"we\", \"our\", \"ours\", \"you\", \"your\", \"yours\", \"he\", \"she\", \"him\", \"his\", \"her\", \"hers\", \"its\", \"they\", \"them\", \\\n",
    "    \"their\", \"what\", \"which\", \"who\", \"whom\", \"this\", \"that\", \"am\", \"are\", \"was\", \"were\", \"be\", \"been\", \"being\", \\\n",
    "    \"have\", \"has\", \"had\", \"do\", \"does\", \"did\", \"but\", \"at\", \"by\", \"with\", \"from\", \"here\", \"when\", \"where\", \"how\", \\\n",
    "    \"all\", \"any\", \"both\", \"each\", \"few\", \"more\", \"some\", \"such\", \"no\", \"nor\", \"too\", \"very\", \"can\", \"will\", \"just\"]\n",
    "    \n",
    "    # LEARNER CODE START HERE\n",
    "    \n",
    "    \n",
    "    result = {}\n",
    "    listik=[]\n",
    "    text=\"\"\n",
    "       \n",
    "    for char in file_contents:\n",
    "        if char.isalpha():\n",
    "            text=text+\"\".join(char)\n",
    "        else:\n",
    "            text=text+\" \"\n",
    "            #print(text)\n",
    "    new=text.lower().split()\n",
    "\n",
    "    for word in new:\n",
    "        if word not in uninteresting_words:\n",
    "            listik.append(word)\n",
    "    for item in listik:\n",
    "        result[item]=result.get(item, 0)+1\n",
    "\n",
    "\n",
    "    \n",
    "    #wordcloud\n",
    "    print(type(punctuations))\n",
    "    return result"
   ]
  },
  {
   "cell_type": "code",
   "execution_count": 70,
   "metadata": {},
   "outputs": [
    {
     "name": "stdout",
     "output_type": "stream",
     "text": [
      "<class 'str'>\n"
     ]
    },
    {
     "data": {
      "text/plain": [
       "{'hello': 1, 're': 1, 'going': 1, 'test': 1, 'game': 2, 'again': 1}"
      ]
     },
     "execution_count": 70,
     "metadata": {},
     "output_type": "execute_result"
    }
   ],
   "source": [
    "file=\"Hello, what we're going to test this game, game and } again ...\"\n",
    "\n",
    "calculate_frequencies(file)\n",
    "\n"
   ]
  },
  {
   "cell_type": "code",
   "execution_count": 71,
   "metadata": {},
   "outputs": [],
   "source": [
    "def calculate(file_contents):\n",
    "    # Here is a list of punctuations and uninteresting words you can use to process your text\n",
    "    punctuations = '''!()-[]{;:'\"\\,<>./?@#$%^&*_~'''\n",
    "    uninteresting_words = [\"the\", \"a\", \"to\", \"if\", \"is\", \"it\", \"of\", \"and\", \"or\", \"an\", \"as\", \"i\", \"me\", \"my\", \\\n",
    "    \"we\", \"our\", \"ours\", \"you\", \"your\", \"yours\", \"he\", \"she\", \"him\", \"his\", \"her\", \"hers\", \"its\", \"they\", \"them\", \\\n",
    "    \"their\", \"what\", \"which\", \"who\", \"whom\", \"this\", \"that\", \"am\", \"are\", \"was\", \"were\", \"be\", \"been\", \"being\", \\\n",
    "    \"have\", \"has\", \"had\", \"do\", \"does\", \"did\", \"but\", \"at\", \"by\", \"with\", \"from\", \"here\", \"when\", \"where\", \"how\", \\\n",
    "    \"all\", \"any\", \"both\", \"each\", \"few\", \"more\", \"some\", \"such\", \"no\", \"nor\", \"too\", \"very\", \"can\", \"will\", \"just\"]\n",
    "    \n",
    "    # LEARNER CODE START HERE\n",
    "    \n",
    "    \n",
    "    result = {}\n",
    "    listik=[]\n",
    "    text=\"\"\n",
    "       \n",
    "    for char in file_contents:\n",
    "        if char not in punctuations:\n",
    "            text=text+\"\".join(char)\n",
    "        else:\n",
    "            text=text+\" \"\n",
    "    new=text.lower().split()\n",
    "\n",
    "    for word in new:\n",
    "        if word not in uninteresting_words:\n",
    "            listik.append(word)\n",
    "    for item in listik:\n",
    "        result[item]=result.get(item, 0)+1\n",
    "\n",
    "\n",
    "    \n",
    "    #wordcloud\n",
    "    print(type(punctuations))\n",
    "    return result"
   ]
  },
  {
   "cell_type": "code",
   "execution_count": 72,
   "metadata": {},
   "outputs": [
    {
     "name": "stdout",
     "output_type": "stream",
     "text": [
      "<class 'str'>\n"
     ]
    },
    {
     "data": {
      "text/plain": [
       "{'hello': 1,\n",
       " 're': 1,\n",
       " 'going': 1,\n",
       " 'test': 1,\n",
       " 'game': 2,\n",
       " '}': 1,\n",
       " 'again': 1,\n",
       " 'wha': 1,\n",
       " 'r': 1,\n",
       " 'else': 1}"
      ]
     },
     "execution_count": 72,
     "metadata": {},
     "output_type": "execute_result"
    }
   ],
   "source": [
    "file=\"Hello, what we're going to test this game, game and } again ... what What and wha..r else can we do\"\n",
    "\n",
    "calculate(file)"
   ]
  },
  {
   "cell_type": "code",
   "execution_count": null,
   "metadata": {},
   "outputs": [],
   "source": [
    "def calculate_frequencies(file_contents):\n",
    "    # Here is a list of punctuations and uninteresting words you can use to process your text\n",
    "    punctuations = '''!()-[]{};:'\"\\,<>./?@#$%^&*_~'''\n",
    "    uninteresting_words = [\"the\", \"a\", \"to\", \"if\", \"is\", \"it\", \"of\", \"and\", \"or\", \"an\", \"as\", \"i\", \"me\", \"my\", \\\n",
    "    \"we\", \"our\", \"ours\", \"you\", \"your\", \"yours\", \"he\", \"she\", \"him\", \"his\", \"her\", \"hers\", \"its\", \"they\", \"them\", \\\n",
    "    \"their\", \"what\", \"which\", \"who\", \"whom\", \"this\", \"that\", \"am\", \"are\", \"was\", \"were\", \"be\", \"been\", \"being\", \\\n",
    "    \"have\", \"has\", \"had\", \"do\", \"does\", \"did\", \"but\", \"at\", \"by\", \"with\", \"from\", \"here\", \"when\", \"where\", \"how\", \\\n",
    "    \"all\", \"any\", \"both\", \"each\", \"few\", \"more\", \"some\", \"such\", \"no\", \"nor\", \"too\", \"very\", \"can\", \"will\", \"just\"]\n",
    "    \n",
    "    # LEARNER CODE START HERE\n",
    "    \n",
    "  \n",
    "    \n",
    "\n",
    "\n",
    "\n",
    "    \n",
    "#     wordcloud\n",
    "#     cloud = wordcloud.WordCloud()\n",
    "#     cloud.generate_from_frequencies(result)\n",
    "#     return cloud.to_array()\n",
    "    return \n"
   ]
  },
  {
   "cell_type": "code",
   "execution_count": 88,
   "metadata": {},
   "outputs": [
    {
     "name": "stdout",
     "output_type": "stream",
     "text": [
      "[('non', 11), ('esse', 8), ('quod', 7), ('a', 6), ('cum', 6), ('ut', 6), ('enim', 5), ('ad', 5), ('in', 5), ('ita', 5), ('et', 5), ('Quod', 4), ('autem', 4), ('te', 4), ('est,', 4), ('si', 4), ('ipsum', 3), ('natura', 3), ('se', 3), ('sunt,', 3), ('vero', 3), ('quae', 3), ('nihil', 3), ('est', 3), ('rebus', 3), ('ipsa', 3), ('ne', 3), ('modo', 3), ('quam', 3), ('Sed', 3), ('mihi', 3), ('dolor', 2), ('sit', 2), ('verum', 2), ('beate', 2), ('Quae', 2), ('ista', 2), ('puto.', 2), ('qui', 2), ('id', 2), ('ea', 2), ('e', 2), ('primae', 2), ('inquam,', 2), ('dicas,', 2), ('quid', 2), ('An', 2), ('virtus', 2), ('me', 2), ('nec', 2), ('M.', 2), ('omnis', 2), ('Cum', 2), ('tamen', 2), ('At', 2), ('igitur', 2), ('sed', 2), ('etiam', 2), ('quidem.', 2), ('parum', 2), ('haec', 2), ('quidem', 2), ('equidem', 1), ('reprehendo;', 1), ('Lorem', 1), ('amet,', 1), ('consectetur', 1), ('adipiscing', 1), ('elit.', 1), ('Quibus', 1), ('iure', 1), ('responderit', 1), ('aliunde', 1), ('finem', 1), ('vivendi,', 1), ('principia', 1), ('rei', 1), ('gerendae', 1), ('peti;', 1), ('adhuc', 1), ('protulisti,', 1), ('popularia', 1), ('ego', 1), ('elegantiora', 1), ('desidero.', 1), ('Duo', 1), ('Reges:', 1), ('constructio', 1), ('interrete.', 1), ('Tum', 1), ('Lucius:', 1), ('Mihi', 1), ('valde', 1), ('probata', 1), ('item', 1), ('fratri', 1), ('Bestiarum', 1), ('nullum', 1), ('iudicium', 1), ('Nihil', 1), ('iam', 1), ('habes,', 1), ('corpus', 1), ('referas;', 1), ('Deinde', 1), ('prima', 1), ('illa,', 1), ('congressu', 1), ('solemus:', 1), ('Quid', 1), ('tu,', 1), ('inquit,', 1), ('huc?', 1), ('Et', 1), ('homini,', 1), ('ceteris', 1), ('animantibus', 1), ('plurimum', 1), ('praestat,', 1), ('praecipue', 1), ('datum', 1), ('dicemus?', 1), ('Iam', 1), ('absurdum,', 1), ('maximum', 1), ('malum', 1), ('neglegi.', 1), ('occurrentia', 1), ('fingunt,', 1), ('vincunt', 1), ('Aristonem;', 1), ('Atqui', 1), ('perspicuum', 1), ('hominem', 1), ('corpore', 1), ('animoque', 1), ('constare,', 1), ('sint', 1), ('animi', 1), ('partes,', 1), ('secundae', 1), ('corporis.', 1), ('Fieri,', 1), ('Triari,', 1), ('nullo', 1), ('pacto', 1), ('potest,', 1), ('probes', 1), ('eius,', 1), ('quo', 1), ('dissentias.', 1), ('Equidem', 1), ('Cn.', 1), ('dubium', 1), ('quin', 1), ('maximam', 1), ('partem', 1), ('optineat', 1), ('humanis,', 1), ('reliquas', 1), ('obruat?', 1), ('Quis', 1), ('istum', 1), ('dolorem', 1), ('timet?', 1), ('Summus', 1), ('plures', 1), ('dies', 1), ('manere', 1), ('potest?', 1), ('Dicet', 1), ('pro', 1), ('dubitabit', 1), ('isti', 1), ('vestro', 1), ('beato', 1), ('Tubulum', 1), ('fuisse,', 1), ('qua', 1), ('illum,', 1), ('cuius', 1), ('is', 1), ('condemnatus', 1), ('rogatione,', 1), ('P.', 1), ('sit,', 1), ('cur', 1), ('opera', 1), ('philosophiae', 1), ('danda', 1), ('nescio.', 1), ('Ex', 1), ('eorum', 1), ('scriptis', 1), ('institutis', 1), ('doctrina', 1), ('liberalis,', 1), ('historia.', 1), ('sequitur', 1), ('ipsum,', 1), ('velle', 1), ('video,', 1), ('omnes', 1), ('semper', 1), ('beatos', 1), ('sapientes.', 1), ('fertur', 1), ('quasi', 1), ('torrens', 1), ('oratio,', 1), ('quamvis', 1), ('multa', 1), ('cuiusque', 1), ('modi', 1), ('rapiat,', 1), ('teneas,', 1), ('apprehendas,', 1), ('nusquam', 1), ('orationem', 1), ('rapidam', 1), ('coerceas.', 1), ('Ita', 1), ('redarguitur', 1), ('ipse', 1), ('sese,', 1), ('convincunturque', 1), ('scripta', 1), ('eius', 1), ('probitate', 1), ('ipsius', 1), ('ac', 1), ('moribus.', 1), ('quanta', 1), ('conantur!', 1), ('Mundum', 1), ('hunc', 1), ('omnem', 1), ('oppidum', 1), ('nostrum!', 1), ('Incendi', 1), ('eos,', 1), ('audiunt,', 1), ('vides.', 1), ('Vide,', 1), ('magis,', 1), ('tuum', 1), ('fuerit,', 1), ('re', 1), ('idem', 1), ('tibi,', 1), ('mihi,', 1), ('videretur,', 1), ('nova', 1), ('nomina', 1), ('inponere.', 1), ('Qui-vere', 1), ('falsone,', 1), ('quaerere', 1), ('mittimus-dicitur', 1), ('oculis', 1), ('privasse;', 1), ('Si', 1), ('mala', 1), ('potest', 1), ('incidere', 1), ('sapiens,', 1), ('sapientem', 1), ('vivendum', 1), ('satis.', 1), ('vitem', 1), ('sensus', 1), ('accesserit,', 1), ('appetitum', 1), ('quendam', 1), ('habeat', 1), ('per', 1), ('moveatur,', 1), ('facturam', 1), ('putas?', 1), ('Quem', 1), ('tenueris,', 1), ('meum', 1), ('Ciceronem,', 1), ('abducas', 1), ('licebit.', 1), ('Stulti', 1), ('malorum', 1), ('memoria', 1), ('torquentur,', 1), ('sapientes', 1), ('bona', 1), ('praeterita', 1), ('grata', 1), ('recordatione', 1), ('renovata', 1), ('delectant.', 1), ('Esse', 1), ('vellet', 1), ('iniquus', 1), ('iustus', 1), ('poterat', 1), ('inpune.', 1), ('suae', 1), ('institutionis', 1), ('oblita', 1), ('est?', 1), ('Verum', 1), ('de', 1), ('grandioribus', 1), ('ipsae', 1), ('res', 1), ('verba', 1), ('rapiunt;', 1), ('Hoc', 1), ('cor', 1), ('habere,', 1), ('palatum', 1), ('Voluptatem', 1), ('summum', 1), ('bonum', 1), ('diceret,', 1), ('primum', 1), ('eo', 1), ('ipso', 1), ('vidit,', 1), ('deinde', 1), ('hoc', 1), ('quoque', 1), ('alienum;', 1), ('tu', 1), ('istuc', 1), ('dixti', 1), ('bene', 1), ('Latine,', 1), ('plane.', 1), ('Nam', 1), ('erunt', 1), ('promptu,', 1), ('audivi,', 1), ('ante', 1), ('aggrediar,', 1), ('ab', 1), ('istis,', 1), ('quos', 1), ('dicis,', 1), ('instructum', 1), ('videro.', 1), ('Fatebuntur', 1), ('Stoici', 1), ('omnia', 1), ('dicta', 1), ('praeclare,', 1), ('neque', 1), ('eam', 1), ('causam', 1), ('Zenoni', 1), ('desciscendi', 1), ('fuisse.', 1), ('Non', 1), ('hoc:', 1), ('illud', 1), ('Ratio', 1), ('vestra', 1), ('sic', 1), ('cogit.', 1), ('audissem', 1), ('Antiochum,', 1), ('Brute,', 1), ('solebam,', 1), ('callida', 1), ('optime', 1), ('possit', 1), ('architectari', 1), ('voluptates?', 1), ('Idemne,', 1), ('iucunde?', 1), ('Haec', 1), ('videtur', 1), ('delicatior,', 1), ('dicam,', 1), ('molliorque', 1), ('ratio,', 1), ('virtutis', 1), ('vis', 1), ('gravitasque', 1), ('postulat.', 1), ('quoniam', 1), ('advesperascit', 1), ('villam', 1), ('revertendum', 1), ('nunc', 1), ('hactenus;', 1), ('Cuius', 1), ('naturam', 1), ('apta', 1), ('ratio', 1), ('vera', 1), ('illa', 1), ('summa', 1), ('lex', 1), ('philosophis', 1), ('dicitur.', 1), ('Neque', 1), ('solum', 1), ('communia,', 1), ('paria', 1), ('dixerunt.', 1), ('nunc,', 1), ('agimus;', 1), ('A', 1), ('mene', 1), ('tu?', 1)]\n",
      "non 11\n",
      "esse 8\n",
      "quod 7\n",
      "a 6\n",
      "cum 6\n",
      "ut 6\n",
      "enim 5\n",
      "ad 5\n",
      "in 5\n",
      "ita 5\n",
      "et 5\n",
      "Quod 4\n",
      "autem 4\n",
      "te 4\n",
      "est, 4\n",
      "si 4\n",
      "ipsum 3\n",
      "natura 3\n",
      "se 3\n",
      "sunt, 3\n",
      "vero 3\n",
      "quae 3\n",
      "nihil 3\n",
      "est 3\n",
      "rebus 3\n",
      "ipsa 3\n",
      "ne 3\n",
      "modo 3\n",
      "quam 3\n",
      "Sed 3\n",
      "mihi 3\n",
      "dolor 2\n",
      "sit 2\n",
      "verum 2\n",
      "beate 2\n",
      "Quae 2\n",
      "ista 2\n",
      "puto. 2\n",
      "qui 2\n",
      "id 2\n",
      "ea 2\n",
      "e 2\n",
      "primae 2\n",
      "inquam, 2\n",
      "dicas, 2\n",
      "quid 2\n",
      "An 2\n",
      "virtus 2\n",
      "me 2\n",
      "nec 2\n",
      "M. 2\n",
      "omnis 2\n",
      "Cum 2\n",
      "tamen 2\n",
      "At 2\n",
      "igitur 2\n",
      "sed 2\n",
      "etiam 2\n",
      "quidem. 2\n",
      "parum 2\n",
      "haec 2\n",
      "quidem 2\n",
      "equidem 1\n",
      "reprehendo; 1\n",
      "Lorem 1\n",
      "amet, 1\n",
      "consectetur 1\n",
      "adipiscing 1\n",
      "elit. 1\n",
      "Quibus 1\n",
      "iure 1\n",
      "responderit 1\n",
      "aliunde 1\n",
      "finem 1\n",
      "vivendi, 1\n",
      "principia 1\n",
      "rei 1\n",
      "gerendae 1\n",
      "peti; 1\n",
      "adhuc 1\n",
      "protulisti, 1\n",
      "popularia 1\n",
      "ego 1\n",
      "elegantiora 1\n",
      "desidero. 1\n",
      "Duo 1\n",
      "Reges: 1\n",
      "constructio 1\n",
      "interrete. 1\n",
      "Tum 1\n",
      "Lucius: 1\n",
      "Mihi 1\n",
      "valde 1\n",
      "probata 1\n",
      "item 1\n",
      "fratri 1\n",
      "Bestiarum 1\n",
      "nullum 1\n",
      "iudicium 1\n",
      "Nihil 1\n",
      "iam 1\n",
      "habes, 1\n",
      "corpus 1\n",
      "referas; 1\n",
      "Deinde 1\n",
      "prima 1\n",
      "illa, 1\n",
      "congressu 1\n",
      "solemus: 1\n",
      "Quid 1\n",
      "tu, 1\n",
      "inquit, 1\n",
      "huc? 1\n",
      "Et 1\n",
      "homini, 1\n",
      "ceteris 1\n",
      "animantibus 1\n",
      "plurimum 1\n",
      "praestat, 1\n",
      "praecipue 1\n",
      "datum 1\n",
      "dicemus? 1\n",
      "Iam 1\n",
      "absurdum, 1\n",
      "maximum 1\n",
      "malum 1\n",
      "neglegi. 1\n",
      "occurrentia 1\n",
      "fingunt, 1\n",
      "vincunt 1\n",
      "Aristonem; 1\n",
      "Atqui 1\n",
      "perspicuum 1\n",
      "hominem 1\n",
      "corpore 1\n",
      "animoque 1\n",
      "constare, 1\n",
      "sint 1\n",
      "animi 1\n",
      "partes, 1\n",
      "secundae 1\n",
      "corporis. 1\n",
      "Fieri, 1\n",
      "Triari, 1\n",
      "nullo 1\n",
      "pacto 1\n",
      "potest, 1\n",
      "probes 1\n",
      "eius, 1\n",
      "quo 1\n",
      "dissentias. 1\n",
      "Equidem 1\n",
      "Cn. 1\n",
      "dubium 1\n",
      "quin 1\n",
      "maximam 1\n",
      "partem 1\n",
      "optineat 1\n",
      "humanis, 1\n",
      "reliquas 1\n",
      "obruat? 1\n",
      "Quis 1\n",
      "istum 1\n",
      "dolorem 1\n",
      "timet? 1\n",
      "Summus 1\n",
      "plures 1\n",
      "dies 1\n",
      "manere 1\n",
      "potest? 1\n",
      "Dicet 1\n",
      "pro 1\n",
      "dubitabit 1\n",
      "isti 1\n",
      "vestro 1\n",
      "beato 1\n",
      "Tubulum 1\n",
      "fuisse, 1\n",
      "qua 1\n",
      "illum, 1\n",
      "cuius 1\n",
      "is 1\n",
      "condemnatus 1\n",
      "rogatione, 1\n",
      "P. 1\n",
      "sit, 1\n",
      "cur 1\n",
      "opera 1\n",
      "philosophiae 1\n",
      "danda 1\n",
      "nescio. 1\n",
      "Ex 1\n",
      "eorum 1\n",
      "scriptis 1\n",
      "institutis 1\n",
      "doctrina 1\n",
      "liberalis, 1\n",
      "historia. 1\n",
      "sequitur 1\n",
      "ipsum, 1\n",
      "velle 1\n",
      "video, 1\n",
      "omnes 1\n",
      "semper 1\n",
      "beatos 1\n",
      "sapientes. 1\n",
      "fertur 1\n",
      "quasi 1\n",
      "torrens 1\n",
      "oratio, 1\n",
      "quamvis 1\n",
      "multa 1\n",
      "cuiusque 1\n",
      "modi 1\n",
      "rapiat, 1\n",
      "teneas, 1\n",
      "apprehendas, 1\n",
      "nusquam 1\n",
      "orationem 1\n",
      "rapidam 1\n",
      "coerceas. 1\n",
      "Ita 1\n",
      "redarguitur 1\n",
      "ipse 1\n",
      "sese, 1\n",
      "convincunturque 1\n",
      "scripta 1\n",
      "eius 1\n",
      "probitate 1\n",
      "ipsius 1\n",
      "ac 1\n",
      "moribus. 1\n",
      "quanta 1\n",
      "conantur! 1\n",
      "Mundum 1\n",
      "hunc 1\n",
      "omnem 1\n",
      "oppidum 1\n",
      "nostrum! 1\n",
      "Incendi 1\n",
      "eos, 1\n",
      "audiunt, 1\n",
      "vides. 1\n",
      "Vide, 1\n",
      "magis, 1\n",
      "tuum 1\n",
      "fuerit, 1\n",
      "re 1\n",
      "idem 1\n",
      "tibi, 1\n",
      "mihi, 1\n",
      "videretur, 1\n",
      "nova 1\n",
      "nomina 1\n",
      "inponere. 1\n",
      "Qui-vere 1\n",
      "falsone, 1\n",
      "quaerere 1\n",
      "mittimus-dicitur 1\n",
      "oculis 1\n",
      "privasse; 1\n",
      "Si 1\n",
      "mala 1\n",
      "potest 1\n",
      "incidere 1\n",
      "sapiens, 1\n",
      "sapientem 1\n",
      "vivendum 1\n",
      "satis. 1\n",
      "vitem 1\n",
      "sensus 1\n",
      "accesserit, 1\n",
      "appetitum 1\n",
      "quendam 1\n",
      "habeat 1\n",
      "per 1\n",
      "moveatur, 1\n",
      "facturam 1\n",
      "putas? 1\n",
      "Quem 1\n",
      "tenueris, 1\n",
      "meum 1\n",
      "Ciceronem, 1\n",
      "abducas 1\n",
      "licebit. 1\n",
      "Stulti 1\n",
      "malorum 1\n",
      "memoria 1\n",
      "torquentur, 1\n",
      "sapientes 1\n",
      "bona 1\n",
      "praeterita 1\n",
      "grata 1\n",
      "recordatione 1\n",
      "renovata 1\n",
      "delectant. 1\n",
      "Esse 1\n",
      "vellet 1\n",
      "iniquus 1\n",
      "iustus 1\n",
      "poterat 1\n",
      "inpune. 1\n",
      "suae 1\n",
      "institutionis 1\n",
      "oblita 1\n",
      "est? 1\n",
      "Verum 1\n",
      "de 1\n",
      "grandioribus 1\n",
      "ipsae 1\n",
      "res 1\n",
      "verba 1\n",
      "rapiunt; 1\n",
      "Hoc 1\n",
      "cor 1\n",
      "habere, 1\n",
      "palatum 1\n",
      "Voluptatem 1\n",
      "summum 1\n",
      "bonum 1\n",
      "diceret, 1\n",
      "primum 1\n",
      "eo 1\n",
      "ipso 1\n",
      "vidit, 1\n",
      "deinde 1\n",
      "hoc 1\n",
      "quoque 1\n",
      "alienum; 1\n",
      "tu 1\n",
      "istuc 1\n",
      "dixti 1\n",
      "bene 1\n",
      "Latine, 1\n",
      "plane. 1\n",
      "Nam 1\n",
      "erunt 1\n",
      "promptu, 1\n",
      "audivi, 1\n",
      "ante 1\n",
      "aggrediar, 1\n",
      "ab 1\n",
      "istis, 1\n",
      "quos 1\n",
      "dicis, 1\n",
      "instructum 1\n",
      "videro. 1\n",
      "Fatebuntur 1\n",
      "Stoici 1\n",
      "omnia 1\n",
      "dicta 1\n",
      "praeclare, 1\n",
      "neque 1\n",
      "eam 1\n",
      "causam 1\n",
      "Zenoni 1\n",
      "desciscendi 1\n",
      "fuisse. 1\n",
      "Non 1\n",
      "hoc: 1\n",
      "illud 1\n",
      "Ratio 1\n",
      "vestra 1\n",
      "sic 1\n",
      "cogit. 1\n",
      "audissem 1\n",
      "Antiochum, 1\n",
      "Brute, 1\n",
      "solebam, 1\n",
      "callida 1\n",
      "optime 1\n",
      "possit 1\n",
      "architectari 1\n",
      "voluptates? 1\n",
      "Idemne, 1\n",
      "iucunde? 1\n",
      "Haec 1\n",
      "videtur 1\n",
      "delicatior, 1\n",
      "dicam, 1\n",
      "molliorque 1\n",
      "ratio, 1\n",
      "virtutis 1\n",
      "vis 1\n",
      "gravitasque 1\n",
      "postulat. 1\n",
      "quoniam 1\n",
      "advesperascit 1\n",
      "villam 1\n",
      "revertendum 1\n",
      "nunc 1\n",
      "hactenus; 1\n",
      "Cuius 1\n",
      "naturam 1\n",
      "apta 1\n",
      "ratio 1\n",
      "vera 1\n",
      "illa 1\n",
      "summa 1\n",
      "lex 1\n",
      "philosophis 1\n",
      "dicitur. 1\n",
      "Neque 1\n",
      "solum 1\n",
      "communia, 1\n",
      "paria 1\n",
      "dixerunt. 1\n",
      "nunc, 1\n",
      "agimus; 1\n",
      "A 1\n",
      "mene 1\n",
      "tu? 1\n"
     ]
    }
   ],
   "source": [
    "file=open('sample3.txt')\n",
    "new=file.read()\n",
    "hold=new.split()\n",
    "place={}\n",
    "for element in hold:\n",
    "    place[element]=place.get(element, 0)+1\n",
    "    \n",
    "\n",
    "sort_orders = sorted(place.items(), key=lambda x: x[1], reverse=True)\n",
    "print(sort_orders)\n",
    "\n",
    "for i in sort_orders:\n",
    "    print(i[0], i[1])"
   ]
  },
  {
   "cell_type": "code",
   "execution_count": 95,
   "metadata": {},
   "outputs": [
    {
     "name": "stdout",
     "output_type": "stream",
     "text": [
      "Quod equidem non reprehendo;\n",
      "\n",
      "Lorem ipsum dolor sit amet, consectetur adipiscing elit. Quibus natura iure responderit non esse verum aliunde finem beate vivendi, a se principia rei gerendae peti; Quae enim adhuc protulisti, popularia sunt, ego autem a te elegantiora desidero. Duo Reges: constructio interrete. Tum Lucius: Mihi vero ista valde probata sunt, quod item fratri puto. Bestiarum vero nullum iudicium puto. Nihil enim iam habes, quod ad corpus referas; Deinde prima illa, quae in congressu solemus: Quid tu, inquit, huc? Et homini, qui ceteris animantibus plurimum praestat, praecipue a natura nihil datum esse dicemus?\n",
      "\n",
      "['\\n', 'Iam id ipsum absurdum, maximum malum neglegi. Quod ea non occurrentia fingunt, vincunt Aristonem; Atqui perspicuum est hominem e corpore animoque constare, cum primae sint animi partes, secundae corporis. Fieri, inquam, Triari, nullo pacto potest, ut non dicas, quid non probes eius, a quo dissentias. Equidem e Cn. An dubium est, quin virtus ita maximam partem optineat in rebus humanis, ut reliquas obruat?\\n', '\\n', 'Quis istum dolorem timet?\\n', 'Summus dolor plures dies manere non potest? Dicet pro me ipsa virtus nec dubitabit isti vestro beato M. Tubulum fuisse, qua illum, cuius is condemnatus est rogatione, P. Quod si ita sit, cur opera philosophiae sit danda nescio.\\n', '\\n', 'Ex eorum enim scriptis et institutis cum omnis doctrina liberalis, omnis historia.\\n', 'Quod si ita est, sequitur id ipsum, quod te velle video, omnes semper beatos esse sapientes. Cum enim fertur quasi torrens oratio, quamvis multa cuiusque modi rapiat, nihil tamen teneas, nihil apprehendas, nusquam orationem rapidam coerceas. Ita redarguitur ipse a sese, convincunturque scripta eius probitate ipsius ac moribus. At quanta conantur! Mundum hunc omnem oppidum esse nostrum! Incendi igitur eos, qui audiunt, vides. Vide, ne magis, inquam, tuum fuerit, cum re idem tibi, quod mihi, videretur, non nova te rebus nomina inponere. Qui-vere falsone, quaerere mittimus-dicitur oculis se privasse; Si ista mala sunt, in quae potest incidere sapiens, sapientem esse non esse ad beate vivendum satis. At vero si ad vitem sensus accesserit, ut appetitum quendam habeat et per se ipsa moveatur, quid facturam putas?\\n', '\\n', 'Quem si tenueris, non modo meum Ciceronem, sed etiam me ipsum abducas licebit.\\n', 'Stulti autem malorum memoria torquentur, sapientes bona praeterita grata recordatione renovata delectant.\\n', 'Esse enim quam vellet iniquus iustus poterat inpune.\\n', 'Quae autem natura suae primae institutionis oblita est?\\n', 'Verum tamen cum de rebus grandioribus dicas, ipsae res verba rapiunt;\\n', 'Hoc est non modo cor non habere, sed ne palatum quidem.\\n', 'Voluptatem cum summum bonum diceret, primum in eo ipso parum vidit, deinde hoc quoque alienum; Sed tu istuc dixti bene Latine, parum plane. Nam haec ipsa mihi erunt in promptu, quae modo audivi, nec ante aggrediar, quam te ab istis, quos dicis, instructum videro. Fatebuntur Stoici haec omnia dicta esse praeclare, neque eam causam Zenoni desciscendi fuisse. Non autem hoc: igitur ne illud quidem. Ratio quidem vestra sic cogit. Cum audissem Antiochum, Brute, ut solebam, cum M. An quod ita callida est, ut optime possit architectari voluptates?\\n', '\\n', 'Idemne, quod iucunde?\\n', 'Haec mihi videtur delicatior, ut ita dicam, molliorque ratio, quam virtutis vis gravitasque postulat. Sed quoniam et advesperascit et mihi ad villam revertendum est, nunc quidem hactenus; Cuius ad naturam apta ratio vera illa et summa lex a philosophis dicitur. Neque solum ea communia, verum etiam paria esse dixerunt. Sed nunc, quod agimus; A mene tu?']\n"
     ]
    }
   ],
   "source": [
    "file2=open('sample3.txt')\n",
    "print(file2.readline())\n",
    "print(file2.readline())\n",
    "print(file2.readlines())\n",
    "\n",
    "\n"
   ]
  },
  {
   "cell_type": "code",
   "execution_count": null,
   "metadata": {},
   "outputs": [],
   "source": []
  },
  {
   "cell_type": "code",
   "execution_count": null,
   "metadata": {},
   "outputs": [],
   "source": []
  },
  {
   "cell_type": "code",
   "execution_count": null,
   "metadata": {},
   "outputs": [],
   "source": []
  },
  {
   "cell_type": "code",
   "execution_count": null,
   "metadata": {},
   "outputs": [],
   "source": []
  },
  {
   "cell_type": "code",
   "execution_count": null,
   "metadata": {},
   "outputs": [],
   "source": []
  },
  {
   "cell_type": "code",
   "execution_count": null,
   "metadata": {},
   "outputs": [],
   "source": []
  },
  {
   "cell_type": "code",
   "execution_count": null,
   "metadata": {},
   "outputs": [],
   "source": []
  },
  {
   "cell_type": "code",
   "execution_count": null,
   "metadata": {},
   "outputs": [],
   "source": []
  },
  {
   "cell_type": "code",
   "execution_count": null,
   "metadata": {},
   "outputs": [],
   "source": []
  },
  {
   "cell_type": "code",
   "execution_count": null,
   "metadata": {},
   "outputs": [],
   "source": []
  },
  {
   "cell_type": "code",
   "execution_count": null,
   "metadata": {},
   "outputs": [],
   "source": []
  },
  {
   "cell_type": "code",
   "execution_count": null,
   "metadata": {},
   "outputs": [],
   "source": []
  }
 ],
 "metadata": {
  "kernelspec": {
   "display_name": "Python 3",
   "language": "python",
   "name": "python3"
  },
  "language_info": {
   "codemirror_mode": {
    "name": "ipython",
    "version": 3
   },
   "file_extension": ".py",
   "mimetype": "text/x-python",
   "name": "python",
   "nbconvert_exporter": "python",
   "pygments_lexer": "ipython3",
   "version": "3.8.5"
  }
 },
 "nbformat": 4,
 "nbformat_minor": 4
}
